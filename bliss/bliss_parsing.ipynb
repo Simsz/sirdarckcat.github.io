{
  "nbformat": 4,
  "nbformat_minor": 0,
  "metadata": {
    "colab": {
      "name": "bliss-parsing.ipynb",
      "provenance": [],
      "collapsed_sections": []
    },
    "kernelspec": {
      "name": "python3",
      "display_name": "Python 3"
    }
  },
  "cells": [
    {
      "cell_type": "code",
      "metadata": {
        "colab": {
          "base_uri": "https://localhost:8080/"
        },
        "id": "3SDm7_kytR9R",
        "outputId": "f413104b-ebdf-4603-fa78-f2adcc06124b"
      },
      "source": [
        "!wget https://raw.githubusercontent.com/sirdarckcat/sirdarckcat.github.io/master/bliss/dump.json\n",
        "with open('dump.json') as f:\n",
        "  import json\n",
        "  meaning = json.load(f)\n"
      ],
      "execution_count": 28,
      "outputs": [
        {
          "output_type": "stream",
          "text": [
            "--2021-01-05 19:04:05--  https://raw.githubusercontent.com/sirdarckcat/sirdarckcat.github.io/master/bliss/dump.json\n",
            "Resolving raw.githubusercontent.com (raw.githubusercontent.com)... 151.101.0.133, 151.101.64.133, 151.101.128.133, ...\n",
            "Connecting to raw.githubusercontent.com (raw.githubusercontent.com)|151.101.0.133|:443... connected.\n",
            "HTTP request sent, awaiting response... 200 OK\n",
            "Length: 338206 (330K) [text/plain]\n",
            "Saving to: ‘dump.json.1’\n",
            "\n",
            "dump.json.1         100%[===================>] 330.28K  --.-KB/s    in 0.02s   \n",
            "\n",
            "2021-01-05 19:04:05 (13.1 MB/s) - ‘dump.json.1’ saved [338206/338206]\n",
            "\n"
          ],
          "name": "stdout"
        }
      ]
    },
    {
      "cell_type": "code",
      "metadata": {
        "id": "tDJEO3e8uadE"
      },
      "source": [
        "def define(word):\n",
        "  definitions = []\n",
        "  for key,value in meaning:\n",
        "    if word.lower() in [k.lower() for k in key]:\n",
        "      definitions.append(value)\n",
        "  return definitions"
      ],
      "execution_count": 113,
      "outputs": []
    },
    {
      "cell_type": "code",
      "metadata": {
        "id": "nHYvkr_LVKdF"
      },
      "source": [
        "with open('dump3.json') as f:\n",
        "  import json\n",
        "  known = json.load(f)"
      ],
      "execution_count": 89,
      "outputs": []
    },
    {
      "cell_type": "code",
      "metadata": {
        "id": "YthHlYYhvaI4"
      },
      "source": [
        "import re\n",
        "mmm={}\n",
        "\n",
        "def recursive_define(word, parents=None, fuzzy=True):\n",
        "  key = '%s-%s'%(word,fuzzy)\n",
        "  if key in mmm:\n",
        "    return mmm[key]\n",
        "  ret = recursive_define_raw(word, parents, fuzzy)\n",
        "  mmm[key] = ret\n",
        "  return ret\n",
        "\n",
        "def recursive_define_raw(word, parents=None, fuzzy=True):\n",
        "  if parents == None:\n",
        "    parents = []\n",
        "  if word in known:\n",
        "    return ('!known', word)\n",
        "  if (word.startswith('pictograph') or\n",
        "      word.endswith('indicator') or\n",
        "      word.startswith('symbol') or\n",
        "      word.endswith('symbol') or\n",
        "      word.endswith('mark') or\n",
        "      word.startswith('Arabic numeral') or\n",
        "      word.endswith('shape')):\n",
        "    return ('!const', word)\n",
        "  if fuzzy:\n",
        "    fuzzy_options = [word]\n",
        "    if word.startswith('equal-sided '):\n",
        "      fuzzy_options.append(word.replace('equal-sided ','equilateral_'))\n",
        "    if ' ' in word:\n",
        "      fuzzy_options.append(word.replace(' ', '_'))\n",
        "    if word.startswith('to '):\n",
        "      fuzzy_options.append(word[3:])\n",
        "      fuzzy_options.append(word[3:]+'-(to)')\n",
        "    if word.endswith('s'):\n",
        "      fuzzy_options.append(word[:-1]+'(s)')\n",
        "    else:\n",
        "      fuzzy_options.append(word+'s')\n",
        "      fuzzy_options.append(word+'(s)')\n",
        "    if '[' in word:\n",
        "      fuzzy_options.append(re.sub(r'\\s*\\[.*','',word))\n",
        "    fuzzy_results = []\n",
        "    for fuzzy_option in fuzzy_options:\n",
        "      fuzzy_result = recursive_define(fuzzy_option, parents, False)\n",
        "      if fuzzy_result:\n",
        "        fuzzy_results.append(fuzzy_result)\n",
        "    if len(fuzzy_results) == 0:\n",
        "      return None\n",
        "    if len(fuzzy_results) == 1:\n",
        "      return fuzzy_results[0]\n",
        "    return ('!choose', fuzzy_results)\n",
        "  definitions = define(word)\n",
        "  if len(definitions) == 0 or word in parents:\n",
        "    return None\n",
        "  possible_definitions = []\n",
        "  for definition in definitions:\n",
        "    definition_symbols = []\n",
        "    incomplete_definition = False\n",
        "    for concept in definition:\n",
        "      possibilities = re.split(r\"\\s*,\\s*\", concept)\n",
        "      valid_possibilities = []\n",
        "      for possibility in possibilities:\n",
        "        result = recursive_define(possibility, [word]+parents)\n",
        "        if result and len(result):\n",
        "          valid_possibilities.append(result)\n",
        "      if len(valid_possibilities) == 0:\n",
        "        incomplete_definition = True\n",
        "        break\n",
        "      if len(valid_possibilities) == 1:\n",
        "        definition_symbols.append(valid_possibilities[0])\n",
        "      else:\n",
        "        definition_symbols.append(('!choose', valid_possibilities))\n",
        "    if incomplete_definition:\n",
        "      continue\n",
        "    if len(definition_symbols) == 0:\n",
        "      possible_definitions.append(definition_symbols[0])\n",
        "    if len(definition_symbols) == 1:\n",
        "      possible_definitions.append(definition_symbols[0])\n",
        "    else:\n",
        "      possible_definitions.append(('!sequence', definition_symbols))\n",
        "  if len(possible_definitions) == 1:\n",
        "    return possible_definitions[0]\n",
        "  if len(possible_definitions) == 0:\n",
        "    return None\n",
        "  return ('!choose', possible_definitions)\n"
      ],
      "execution_count": 118,
      "outputs": []
    },
    {
      "cell_type": "code",
      "metadata": {
        "id": "kyj13h_zBJnB"
      },
      "source": [
        "memory=[]\n",
        "for row in meaning:\n",
        "  for word in row[0]:\n",
        "    memory.append((word, recursive_define(word)))"
      ],
      "execution_count": 119,
      "outputs": []
    },
    {
      "cell_type": "code",
      "metadata": {
        "id": "KMW7Gm3TaLll"
      },
      "source": [
        "with open(\"dump4.json\",\"w\") as f:\n",
        "  import json\n",
        "  json.dump(memory, f)"
      ],
      "execution_count": 120,
      "outputs": []
    }
  ]
}